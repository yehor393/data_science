{
 "cells": [
  {
   "cell_type": "code",
   "execution_count": 1,
   "metadata": {
    "executionInfo": {
     "elapsed": 1,
     "status": "ok",
     "timestamp": 1715231812271,
     "user": {
      "displayName": "Yehor Kalenskiy",
      "userId": "10526689530923576443"
     },
     "user_tz": 360
    },
    "id": "MdxqWFQNFyl0"
   },
   "outputs": [
    {
     "name": "stderr",
     "output_type": "stream",
     "text": [
      "2024-05-08 23:47:34.012594: I external/local_tsl/tsl/cuda/cudart_stub.cc:32] Could not find cuda drivers on your machine, GPU will not be used.\n",
      "2024-05-08 23:47:34.015907: I external/local_tsl/tsl/cuda/cudart_stub.cc:32] Could not find cuda drivers on your machine, GPU will not be used.\n",
      "2024-05-08 23:47:34.059229: I tensorflow/core/platform/cpu_feature_guard.cc:210] This TensorFlow binary is optimized to use available CPU instructions in performance-critical operations.\n",
      "To enable the following instructions: AVX2 FMA, in other operations, rebuild TensorFlow with the appropriate compiler flags.\n",
      "2024-05-08 23:47:34.709461: W tensorflow/compiler/tf2tensorrt/utils/py_utils.cc:38] TF-TRT Warning: Could not find TensorRT\n"
     ]
    }
   ],
   "source": [
    "import numpy as np\n",
    "import tensorflow as tf\n",
    "from tensorflow.keras.layers import Input, Dense, Flatten, Dropout, BatchNormalization\n",
    "from tensorflow.keras.datasets import fashion_mnist\n",
    "from tensorflow.keras import Sequential, layers, optimizers\n"
   ]
  },
  {
   "cell_type": "markdown",
   "metadata": {
    "id": "tUNOjYwjhHFv"
   },
   "source": []
  },
  {
   "cell_type": "code",
   "execution_count": 2,
   "metadata": {
    "colab": {
     "base_uri": "https://localhost:8080/"
    },
    "executionInfo": {
     "elapsed": 166,
     "status": "ok",
     "timestamp": 1715231812449,
     "user": {
      "displayName": "Yehor Kalenskiy",
      "userId": "10526689530923576443"
     },
     "user_tz": 360
    },
    "id": "WHnEppOV1ye1",
    "outputId": "a6c4e872-1bee-4c2b-9bcd-8c38d0da77a8"
   },
   "outputs": [],
   "source": [
    "# Завантаження даних\n",
    "(x_train, y_train), (x_test, y_test) = fashion_mnist.load_data()"
   ]
  },
  {
   "cell_type": "code",
   "execution_count": 3,
   "metadata": {
    "executionInfo": {
     "elapsed": 0,
     "status": "ok",
     "timestamp": 1715231812653,
     "user": {
      "displayName": "Yehor Kalenskiy",
      "userId": "10526689530923576443"
     },
     "user_tz": 360
    },
    "id": "VnG_elzX1ab1"
   },
   "outputs": [],
   "source": [
    "# Нормалізація даних\n",
    "x_train = x_train.astype('float32') / 255.0\n",
    "x_test = x_test.astype('float32') / 255.0"
   ]
  },
  {
   "cell_type": "markdown",
   "metadata": {
    "id": "191jCXs75PZz"
   },
   "source": [
    "**Базова Модель**\n",
    "\n",
    "---\n"
   ]
  },
  {
   "cell_type": "code",
   "execution_count": 4,
   "metadata": {
    "executionInfo": {
     "elapsed": 282,
     "status": "ok",
     "timestamp": 1715231813130,
     "user": {
      "displayName": "Yehor Kalenskiy",
      "userId": "10526689530923576443"
     },
     "user_tz": 360
    },
    "id": "2fp8rCfv1a29"
   },
   "outputs": [
    {
     "name": "stderr",
     "output_type": "stream",
     "text": [
      "/home/yehor/.local/lib/python3.10/site-packages/keras/src/layers/reshaping/flatten.py:37: UserWarning: Do not pass an `input_shape`/`input_dim` argument to a layer. When using Sequential models, prefer using an `Input(shape)` object as the first layer in the model instead.\n",
      "  super().__init__(**kwargs)\n",
      "2024-05-08 23:47:39.487108: I external/local_xla/xla/stream_executor/cuda/cuda_executor.cc:998] successful NUMA node read from SysFS had negative value (-1), but there must be at least one NUMA node, so returning NUMA node zero. See more at https://github.com/torvalds/linux/blob/v6.0/Documentation/ABI/testing/sysfs-bus-pci#L344-L355\n",
      "2024-05-08 23:47:39.487675: W tensorflow/core/common_runtime/gpu/gpu_device.cc:2251] Cannot dlopen some GPU libraries. Please make sure the missing libraries mentioned above are installed properly if you would like to use GPU. Follow the guide at https://www.tensorflow.org/install/gpu for how to download and setup the required libraries for your platform.\n",
      "Skipping registering GPU devices...\n"
     ]
    }
   ],
   "source": [
    "# Визначення моделі\n",
    "model = Sequential([\n",
    "    Flatten(input_shape=(28, 28)),\n",
    "    Dense(512, activation='relu'),\n",
    "    BatchNormalization(),\n",
    "    Dropout(0.5),\n",
    "    Dense(256, activation='relu'),\n",
    "    BatchNormalization(),\n",
    "    Dropout(0.5),\n",
    "    Dense(128, activation='relu'),\n",
    "    BatchNormalization(),\n",
    "    Dropout(0.5),\n",
    "    Dense(10, activation='softmax')\n",
    "])\n",
    "# from tensorflow.keras.models import Sequential\n",
    "# from tensorflow.keras.layers import Conv2D, MaxPooling2D, Flatten, Dense, Dropout, BatchNormalization\n",
    "\n",
    "# model = Sequential([\n",
    "#     Conv2D(32, kernel_size=(3, 3), activation='relu', input_shape=(28, 28, 1)),\n",
    "#     BatchNormalization(),\n",
    "#     Conv2D(64, kernel_size=(3, 3), activation='relu'),\n",
    "#     BatchNormalization(),\n",
    "#     MaxPooling2D(pool_size=(2, 2)),\n",
    "#     Dropout(0.25),\n",
    "\n",
    "#     Conv2D(128, kernel_size=(3, 3), activation='relu'),\n",
    "#     BatchNormalization(),\n",
    "#     Dropout(0.25),\n",
    "\n",
    "#     Flatten(),\n",
    "#     Dense(128, activation='relu'),\n",
    "#     BatchNormalization(),\n",
    "#     Dropout(0.5),\n",
    "#     Dense(10, activation='softmax')\n",
    "# ])\n",
    "\n",
    "# model.compile(optimizer='adam', loss='sparse_categorical_crossentropy', metrics=['accuracy'])\n"
   ]
  },
  {
   "cell_type": "code",
   "execution_count": 33,
   "metadata": {
    "executionInfo": {
     "elapsed": 1,
     "status": "ok",
     "timestamp": 1715231557580,
     "user": {
      "displayName": "Yehor Kalenskiy",
      "userId": "10526689530923576443"
     },
     "user_tz": 360
    },
    "id": "Oytnzwem1ZVo"
   },
   "outputs": [],
   "source": [
    "# Компіляція моделі\n",
    "model.compile(\n",
    "    optimizer=optimizers.Adam(learning_rate=0.00001),\n",
    "    loss='sparse_categorical_crossentropy',\n",
    "    metrics=['accuracy']\n",
    "    )"
   ]
  },
  {
   "cell_type": "code",
   "execution_count": 36,
   "metadata": {
    "colab": {
     "base_uri": "https://localhost:8080/"
    },
    "executionInfo": {
     "elapsed": 88815,
     "status": "ok",
     "timestamp": 1715231647136,
     "user": {
      "displayName": "Yehor Kalenskiy",
      "userId": "10526689530923576443"
     },
     "user_tz": 360
    },
    "id": "wH-PbQWQ1ZLs",
    "outputId": "f51b5be0-ed54-40eb-d13e-885aecac41cb"
   },
   "outputs": [
    {
     "name": "stdout",
     "output_type": "stream",
     "text": [
      "Epoch 1/20\n",
      "\u001b[1m750/750\u001b[0m \u001b[32m━━━━━━━━━━━━━━━━━━━━\u001b[0m\u001b[37m\u001b[0m \u001b[1m4s\u001b[0m 5ms/step - accuracy: 0.8928 - loss: 0.2971 - val_accuracy: 0.8937 - val_loss: 0.2948 - learning_rate: 1.0000e-05\n",
      "Epoch 2/20\n",
      "\u001b[1m750/750\u001b[0m \u001b[32m━━━━━━━━━━━━━━━━━━━━\u001b[0m\u001b[37m\u001b[0m \u001b[1m3s\u001b[0m 5ms/step - accuracy: 0.8949 - loss: 0.2905 - val_accuracy: 0.8942 - val_loss: 0.2949 - learning_rate: 1.0000e-05\n",
      "Epoch 3/20\n",
      "\u001b[1m750/750\u001b[0m \u001b[32m━━━━━━━━━━━━━━━━━━━━\u001b[0m\u001b[37m\u001b[0m \u001b[1m4s\u001b[0m 5ms/step - accuracy: 0.8911 - loss: 0.2982 - val_accuracy: 0.8936 - val_loss: 0.2951 - learning_rate: 1.0000e-05\n",
      "Epoch 4/20\n",
      "\u001b[1m750/750\u001b[0m \u001b[32m━━━━━━━━━━━━━━━━━━━━\u001b[0m\u001b[37m\u001b[0m \u001b[1m4s\u001b[0m 5ms/step - accuracy: 0.8943 - loss: 0.2981 - val_accuracy: 0.8944 - val_loss: 0.2952 - learning_rate: 1.0000e-05\n",
      "Epoch 5/20\n",
      "\u001b[1m750/750\u001b[0m \u001b[32m━━━━━━━━━━━━━━━━━━━━\u001b[0m\u001b[37m\u001b[0m \u001b[1m3s\u001b[0m 5ms/step - accuracy: 0.8927 - loss: 0.2942 - val_accuracy: 0.8938 - val_loss: 0.2950 - learning_rate: 1.0000e-05\n",
      "Epoch 6/20\n",
      "\u001b[1m750/750\u001b[0m \u001b[32m━━━━━━━━━━━━━━━━━━━━\u001b[0m\u001b[37m\u001b[0m \u001b[1m4s\u001b[0m 5ms/step - accuracy: 0.8923 - loss: 0.2977 - val_accuracy: 0.8938 - val_loss: 0.2949 - learning_rate: 1.0000e-05\n",
      "Epoch 7/20\n",
      "\u001b[1m750/750\u001b[0m \u001b[32m━━━━━━━━━━━━━━━━━━━━\u001b[0m\u001b[37m\u001b[0m \u001b[1m4s\u001b[0m 5ms/step - accuracy: 0.8946 - loss: 0.2908 - val_accuracy: 0.8940 - val_loss: 0.2955 - learning_rate: 1.0000e-05\n",
      "Epoch 8/20\n",
      "\u001b[1m750/750\u001b[0m \u001b[32m━━━━━━━━━━━━━━━━━━━━\u001b[0m\u001b[37m\u001b[0m \u001b[1m4s\u001b[0m 5ms/step - accuracy: 0.8938 - loss: 0.2948 - val_accuracy: 0.8939 - val_loss: 0.2954 - learning_rate: 1.0000e-05\n",
      "Epoch 9/20\n",
      "\u001b[1m750/750\u001b[0m \u001b[32m━━━━━━━━━━━━━━━━━━━━\u001b[0m\u001b[37m\u001b[0m \u001b[1m4s\u001b[0m 5ms/step - accuracy: 0.8925 - loss: 0.2942 - val_accuracy: 0.8944 - val_loss: 0.2950 - learning_rate: 1.0000e-05\n",
      "Epoch 10/20\n",
      "\u001b[1m750/750\u001b[0m \u001b[32m━━━━━━━━━━━━━━━━━━━━\u001b[0m\u001b[37m\u001b[0m \u001b[1m4s\u001b[0m 5ms/step - accuracy: 0.8993 - loss: 0.2824 - val_accuracy: 0.8941 - val_loss: 0.2952 - learning_rate: 1.0000e-05\n",
      "Epoch 11/20\n",
      "\u001b[1m750/750\u001b[0m \u001b[32m━━━━━━━━━━━━━━━━━━━━\u001b[0m\u001b[37m\u001b[0m \u001b[1m4s\u001b[0m 5ms/step - accuracy: 0.8947 - loss: 0.2939 - val_accuracy: 0.8941 - val_loss: 0.2950 - learning_rate: 1.0000e-05\n",
      "Epoch 12/20\n",
      "\u001b[1m750/750\u001b[0m \u001b[32m━━━━━━━━━━━━━━━━━━━━\u001b[0m\u001b[37m\u001b[0m \u001b[1m3s\u001b[0m 5ms/step - accuracy: 0.8943 - loss: 0.2983 - val_accuracy: 0.8948 - val_loss: 0.2950 - learning_rate: 1.0000e-05\n",
      "Epoch 13/20\n",
      "\u001b[1m750/750\u001b[0m \u001b[32m━━━━━━━━━━━━━━━━━━━━\u001b[0m\u001b[37m\u001b[0m \u001b[1m4s\u001b[0m 5ms/step - accuracy: 0.8954 - loss: 0.2939 - val_accuracy: 0.8949 - val_loss: 0.2950 - learning_rate: 1.0000e-05\n",
      "Epoch 14/20\n",
      "\u001b[1m750/750\u001b[0m \u001b[32m━━━━━━━━━━━━━━━━━━━━\u001b[0m\u001b[37m\u001b[0m \u001b[1m3s\u001b[0m 5ms/step - accuracy: 0.8960 - loss: 0.2921 - val_accuracy: 0.8945 - val_loss: 0.2948 - learning_rate: 1.0000e-05\n",
      "Epoch 15/20\n",
      "\u001b[1m750/750\u001b[0m \u001b[32m━━━━━━━━━━━━━━━━━━━━\u001b[0m\u001b[37m\u001b[0m \u001b[1m4s\u001b[0m 5ms/step - accuracy: 0.8947 - loss: 0.2904 - val_accuracy: 0.8947 - val_loss: 0.2947 - learning_rate: 1.0000e-05\n",
      "Epoch 16/20\n",
      "\u001b[1m750/750\u001b[0m \u001b[32m━━━━━━━━━━━━━━━━━━━━\u001b[0m\u001b[37m\u001b[0m \u001b[1m4s\u001b[0m 5ms/step - accuracy: 0.8969 - loss: 0.2928 - val_accuracy: 0.8941 - val_loss: 0.2944 - learning_rate: 1.0000e-05\n",
      "Epoch 17/20\n",
      "\u001b[1m750/750\u001b[0m \u001b[32m━━━━━━━━━━━━━━━━━━━━\u001b[0m\u001b[37m\u001b[0m \u001b[1m3s\u001b[0m 5ms/step - accuracy: 0.8953 - loss: 0.2930 - val_accuracy: 0.8941 - val_loss: 0.2944 - learning_rate: 1.0000e-05\n",
      "Epoch 18/20\n",
      "\u001b[1m750/750\u001b[0m \u001b[32m━━━━━━━━━━━━━━━━━━━━\u001b[0m\u001b[37m\u001b[0m \u001b[1m4s\u001b[0m 5ms/step - accuracy: 0.8956 - loss: 0.2925 - val_accuracy: 0.8936 - val_loss: 0.2945 - learning_rate: 1.0000e-05\n",
      "Epoch 19/20\n",
      "\u001b[1m750/750\u001b[0m \u001b[32m━━━━━━━━━━━━━━━━━━━━\u001b[0m\u001b[37m\u001b[0m \u001b[1m4s\u001b[0m 5ms/step - accuracy: 0.8938 - loss: 0.2955 - val_accuracy: 0.8945 - val_loss: 0.2945 - learning_rate: 1.0000e-05\n",
      "Epoch 20/20\n",
      "\u001b[1m750/750\u001b[0m \u001b[32m━━━━━━━━━━━━━━━━━━━━\u001b[0m\u001b[37m\u001b[0m \u001b[1m4s\u001b[0m 6ms/step - accuracy: 0.8936 - loss: 0.2968 - val_accuracy: 0.8948 - val_loss: 0.2944 - learning_rate: 1.0000e-05\n"
     ]
    }
   ],
   "source": [
    "# # Тренування моделі\n",
    "# history = model.fit(x_train, y_train, epochs=20, batch_size=64, validation_split=0.2)\n",
    "\n",
    "from tensorflow.keras.callbacks import ReduceLROnPlateau, EarlyStopping\n",
    "\n",
    "reduce_lr = ReduceLROnPlateau(monitor='val_loss', factor=0.2, patience=5, min_lr=0.01)\n",
    "# early_stopping = EarlyStopping(monitor='val_loss', patience=10, restore_best_weights=True)\n",
    "\n",
    "history = model.fit(\n",
    "    x_train, y_train,\n",
    "    epochs=20,\n",
    "    batch_size=64,\n",
    "    validation_split=0.2,\n",
    "    callbacks=[reduce_lr]\n",
    ")"
   ]
  },
  {
   "cell_type": "code",
   "execution_count": 37,
   "metadata": {
    "colab": {
     "base_uri": "https://localhost:8080/"
    },
    "executionInfo": {
     "elapsed": 950,
     "status": "ok",
     "timestamp": 1715231648076,
     "user": {
      "displayName": "Yehor Kalenskiy",
      "userId": "10526689530923576443"
     },
     "user_tz": 360
    },
    "id": "arh_QO002QEc",
    "outputId": "89f0cd9c-f5d5-4363-f61a-c8cc7933ed15"
   },
   "outputs": [
    {
     "name": "stdout",
     "output_type": "stream",
     "text": [
      "\u001b[1m313/313\u001b[0m \u001b[32m━━━━━━━━━━━━━━━━━━━━\u001b[0m\u001b[37m\u001b[0m \u001b[1m0s\u001b[0m 1ms/step - accuracy: 0.8874 - loss: 0.3321\n",
      "Test Accuracy: 88.67%\n"
     ]
    }
   ],
   "source": [
    "# Оцінка моделі\n",
    "test_loss, test_acc = model.evaluate(x_test, y_test)\n",
    "print(f\"Test Accuracy: {test_acc*100:.2f}%\")"
   ]
  },
  {
   "cell_type": "code",
   "execution_count": null,
   "metadata": {},
   "outputs": [],
   "source": []
  }
 ],
 "metadata": {
  "accelerator": "GPU",
  "colab": {
   "authorship_tag": "ABX9TyO6rJvVpDrM/G3di4s53t5i",
   "gpuType": "T4",
   "provenance": []
  },
  "kernelspec": {
   "display_name": "Python 3 (ipykernel)",
   "language": "python",
   "name": "python3"
  },
  "language_info": {
   "codemirror_mode": {
    "name": "ipython",
    "version": 3
   },
   "file_extension": ".py",
   "mimetype": "text/x-python",
   "name": "python",
   "nbconvert_exporter": "python",
   "pygments_lexer": "ipython3",
   "version": "3.10.12"
  }
 },
 "nbformat": 4,
 "nbformat_minor": 4
}
