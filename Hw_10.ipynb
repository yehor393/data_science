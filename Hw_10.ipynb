{
  "nbformat": 4,
  "nbformat_minor": 0,
  "metadata": {
    "colab": {
      "provenance": [],
      "gpuType": "T4"
    },
    "kernelspec": {
      "name": "python3",
      "display_name": "Python 3"
    },
    "language_info": {
      "name": "python"
    },
    "accelerator": "GPU"
  },
  "cells": [
    {
      "cell_type": "code",
      "execution_count": 9,
      "metadata": {
        "id": "MdxqWFQNFyl0"
      },
      "outputs": [],
      "source": [
        "import numpy as np\n",
        "import tensorflow as tf\n",
        "from tensorflow.keras.datasets import fashion_mnist"
      ]
    },
    {
      "cell_type": "code",
      "source": [
        "# Завантаження даних\n",
        "(x_train, y_train), (x_test, y_test) = fashion_mnist.load_data()"
      ],
      "metadata": {
        "id": "WHnEppOV1ye1"
      },
      "execution_count": 10,
      "outputs": []
    },
    {
      "cell_type": "code",
      "source": [
        "# Нормалізація даних\n",
        "x_train = x_train.astype('float32') / 255.0\n",
        "x_test = x_test.astype('float32') / 255.0"
      ],
      "metadata": {
        "id": "VnG_elzX1ab1"
      },
      "execution_count": 11,
      "outputs": []
    },
    {
      "cell_type": "markdown",
      "source": [
        "**Базова Модель**\n",
        "\n",
        "---\n"
      ],
      "metadata": {
        "id": "191jCXs75PZz"
      }
    },
    {
      "cell_type": "code",
      "source": [
        "from tensorflow.keras.models import Sequential\n",
        "from tensorflow.keras.layers import Conv2D, MaxPooling2D, Flatten, Dense, Dropout, BatchNormalization\n",
        "\n",
        "model = Sequential([\n",
        "    Conv2D(32, kernel_size=(3, 3), activation='relu', input_shape=(28, 28, 1)),\n",
        "    BatchNormalization(),\n",
        "    Conv2D(64, kernel_size=(3, 3), activation='relu'),\n",
        "    BatchNormalization(),\n",
        "    MaxPooling2D(pool_size=(2, 2)),\n",
        "    Dropout(0.25),\n",
        "\n",
        "    Conv2D(128, kernel_size=(3, 3), activation='relu'),\n",
        "    BatchNormalization(),\n",
        "    Dropout(0.25),\n",
        "\n",
        "    Flatten(),\n",
        "    Dense(128, activation='relu'),\n",
        "    BatchNormalization(),\n",
        "    Dropout(0.5),\n",
        "    Dense(10, activation='softmax')\n",
        "])\n",
        "\n",
        "model.compile(optimizer='adam', loss='sparse_categorical_crossentropy', metrics=['accuracy'])\n"
      ],
      "metadata": {
        "id": "2fp8rCfv1a29"
      },
      "execution_count": 12,
      "outputs": []
    },
    {
      "cell_type": "code",
      "source": [
        "from tensorflow.keras import optimizers\n",
        "# Компіляція моделі\n",
        "model.compile(\n",
        "    optimizer=optimizers.Adam(learning_rate=0.001),\n",
        "    loss='sparse_categorical_crossentropy',\n",
        "    metrics=['accuracy']\n",
        "    )"
      ],
      "metadata": {
        "id": "Oytnzwem1ZVo"
      },
      "execution_count": 13,
      "outputs": []
    },
    {
      "cell_type": "code",
      "source": [
        "# # Тренування моделі\n",
        "# history = model.fit(x_train, y_train, epochs=20, batch_size=64, validation_split=0.2)\n",
        "\n",
        "from tensorflow.keras.callbacks import ReduceLROnPlateau, EarlyStopping\n",
        "\n",
        "reduce_lr = ReduceLROnPlateau(monitor='val_loss', factor=0.2, patience=5, min_lr=0.0001)\n",
        "# early_stopping = EarlyStopping(monitor='val_loss', patience=10, restore_best_weights=True)\n",
        "\n",
        "history = model.fit(\n",
        "    x_train, y_train,\n",
        "    epochs=20,\n",
        "    batch_size=64,\n",
        "    validation_split=0.2,\n",
        "    callbacks=[reduce_lr]\n",
        ")"
      ],
      "metadata": {
        "colab": {
          "base_uri": "https://localhost:8080/"
        },
        "id": "wH-PbQWQ1ZLs",
        "outputId": "c03c7b0c-5190-4409-ea75-a6c3dc6efa47"
      },
      "execution_count": 14,
      "outputs": [
        {
          "output_type": "stream",
          "name": "stdout",
          "text": [
            "Epoch 1/20\n",
            "750/750 [==============================] - 10s 10ms/step - loss: 0.4626 - accuracy: 0.8406 - val_loss: 0.3088 - val_accuracy: 0.8869 - lr: 0.0010\n",
            "Epoch 2/20\n",
            "750/750 [==============================] - 7s 9ms/step - loss: 0.2904 - accuracy: 0.8953 - val_loss: 0.2770 - val_accuracy: 0.8932 - lr: 0.0010\n",
            "Epoch 3/20\n",
            "750/750 [==============================] - 7s 10ms/step - loss: 0.2502 - accuracy: 0.9107 - val_loss: 0.2202 - val_accuracy: 0.9212 - lr: 0.0010\n",
            "Epoch 4/20\n",
            "750/750 [==============================] - 7s 9ms/step - loss: 0.2241 - accuracy: 0.9193 - val_loss: 0.2096 - val_accuracy: 0.9251 - lr: 0.0010\n",
            "Epoch 5/20\n",
            "750/750 [==============================] - 7s 10ms/step - loss: 0.2044 - accuracy: 0.9250 - val_loss: 0.2172 - val_accuracy: 0.9208 - lr: 0.0010\n",
            "Epoch 6/20\n",
            "750/750 [==============================] - 7s 9ms/step - loss: 0.1867 - accuracy: 0.9315 - val_loss: 0.2207 - val_accuracy: 0.9203 - lr: 0.0010\n",
            "Epoch 7/20\n",
            "750/750 [==============================] - 7s 10ms/step - loss: 0.1697 - accuracy: 0.9386 - val_loss: 0.2083 - val_accuracy: 0.9259 - lr: 0.0010\n",
            "Epoch 8/20\n",
            "750/750 [==============================] - 7s 9ms/step - loss: 0.1560 - accuracy: 0.9435 - val_loss: 0.1912 - val_accuracy: 0.9309 - lr: 0.0010\n",
            "Epoch 9/20\n",
            "750/750 [==============================] - 7s 9ms/step - loss: 0.1474 - accuracy: 0.9469 - val_loss: 0.2039 - val_accuracy: 0.9294 - lr: 0.0010\n",
            "Epoch 10/20\n",
            "750/750 [==============================] - 8s 10ms/step - loss: 0.1365 - accuracy: 0.9501 - val_loss: 0.2000 - val_accuracy: 0.9313 - lr: 0.0010\n",
            "Epoch 11/20\n",
            "750/750 [==============================] - 7s 9ms/step - loss: 0.1269 - accuracy: 0.9534 - val_loss: 0.2294 - val_accuracy: 0.9228 - lr: 0.0010\n",
            "Epoch 12/20\n",
            "750/750 [==============================] - 7s 10ms/step - loss: 0.1177 - accuracy: 0.9570 - val_loss: 0.2098 - val_accuracy: 0.9313 - lr: 0.0010\n",
            "Epoch 13/20\n",
            "750/750 [==============================] - 7s 9ms/step - loss: 0.1053 - accuracy: 0.9618 - val_loss: 0.2053 - val_accuracy: 0.9297 - lr: 0.0010\n",
            "Epoch 14/20\n",
            "750/750 [==============================] - 7s 10ms/step - loss: 0.0778 - accuracy: 0.9718 - val_loss: 0.1850 - val_accuracy: 0.9385 - lr: 2.0000e-04\n",
            "Epoch 15/20\n",
            "750/750 [==============================] - 7s 10ms/step - loss: 0.0683 - accuracy: 0.9762 - val_loss: 0.1901 - val_accuracy: 0.9383 - lr: 2.0000e-04\n",
            "Epoch 16/20\n",
            "750/750 [==============================] - 7s 10ms/step - loss: 0.0619 - accuracy: 0.9776 - val_loss: 0.1927 - val_accuracy: 0.9398 - lr: 2.0000e-04\n",
            "Epoch 17/20\n",
            "750/750 [==============================] - 7s 9ms/step - loss: 0.0548 - accuracy: 0.9804 - val_loss: 0.1975 - val_accuracy: 0.9400 - lr: 2.0000e-04\n",
            "Epoch 18/20\n",
            "750/750 [==============================] - 7s 9ms/step - loss: 0.0528 - accuracy: 0.9803 - val_loss: 0.1982 - val_accuracy: 0.9386 - lr: 2.0000e-04\n",
            "Epoch 19/20\n",
            "750/750 [==============================] - 7s 9ms/step - loss: 0.0488 - accuracy: 0.9828 - val_loss: 0.2040 - val_accuracy: 0.9394 - lr: 2.0000e-04\n",
            "Epoch 20/20\n",
            "750/750 [==============================] - 7s 9ms/step - loss: 0.0469 - accuracy: 0.9834 - val_loss: 0.2009 - val_accuracy: 0.9400 - lr: 1.0000e-04\n"
          ]
        }
      ]
    },
    {
      "cell_type": "code",
      "source": [
        "# Оцінка моделі\n",
        "test_loss, test_acc = model.evaluate(x_test, y_test)\n",
        "print(f\"Test Accuracy: {test_acc*100:.2f}%\")"
      ],
      "metadata": {
        "id": "arh_QO002QEc",
        "colab": {
          "base_uri": "https://localhost:8080/"
        },
        "outputId": "18f1f91c-f805-4610-e450-fff77436587d"
      },
      "execution_count": 15,
      "outputs": [
        {
          "output_type": "stream",
          "name": "stdout",
          "text": [
            "313/313 [==============================] - 1s 4ms/step - loss: 0.2186 - accuracy: 0.9388\n",
            "Test Accuracy: 93.88%\n"
          ]
        }
      ]
    },
    {
      "cell_type": "code",
      "source": [],
      "metadata": {
        "id": "qKhHQg5ZnJLs"
      },
      "execution_count": null,
      "outputs": []
    }
  ]
}