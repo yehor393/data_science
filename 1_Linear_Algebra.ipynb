{
 "cells": [
  {
   "cell_type": "code",
   "execution_count": 45,
   "id": "1aff7165-7200-459e-a652-0efab03ab14d",
   "metadata": {},
   "outputs": [],
   "source": [
    "import numpy as np\n",
    "import pandas as pd"
   ]
  },
  {
   "cell_type": "markdown",
   "id": "d32771f9-b86f-43e6-a43c-5835966eb40c",
   "metadata": {},
   "source": [
    "# 1\n",
    " Створіть одновимірний масив (вектор) з першими 10-ма натуральними числами та виведіть його значення."
   ]
  },
  {
   "cell_type": "code",
   "execution_count": 46,
   "id": "34328648-343c-4408-8236-2895c267a8dc",
   "metadata": {},
   "outputs": [
    {
     "data": {
      "text/plain": [
       "array([ 1,  2,  3,  4,  5,  6,  7,  8,  9, 10])"
      ]
     },
     "execution_count": 46,
     "metadata": {},
     "output_type": "execute_result"
    }
   ],
   "source": [
    "a = np.arange(1, 11, 1)\n",
    "a"
   ]
  },
  {
   "cell_type": "markdown",
   "id": "8190f018-3866-43ac-86e8-673da0098c83",
   "metadata": {},
   "source": [
    "# 2\n",
    "Створіть двовимірний масив (матрицю) розміром 3x3, заповніть його нулями та виведіть його значення."
   ]
  },
  {
   "cell_type": "code",
   "execution_count": 47,
   "id": "daae964f-e574-4930-a5de-022e6c23a9ea",
   "metadata": {},
   "outputs": [
    {
     "data": {
      "text/plain": [
       "array([[0., 0., 0.],\n",
       "       [0., 0., 0.],\n",
       "       [0., 0., 0.]])"
      ]
     },
     "execution_count": 47,
     "metadata": {},
     "output_type": "execute_result"
    }
   ],
   "source": [
    "b = np.zeros((3, 3))\n",
    "b"
   ]
  },
  {
   "cell_type": "markdown",
   "id": "6dc0575f-e7d1-4df1-bd7a-5719725abf1d",
   "metadata": {},
   "source": [
    "# 3\n",
    "Створіть масив розміром 5x5, заповніть його випадковими цілими числами в діапазоні від 1 до 10 та виведіть його значення."
   ]
  },
  {
   "cell_type": "code",
   "execution_count": 48,
   "id": "bb259a2b-fdb3-4280-a6b9-8844e55db3ee",
   "metadata": {},
   "outputs": [
    {
     "data": {
      "text/plain": [
       "array([[ 8,  8,  2,  4,  1],\n",
       "       [10,  5,  5,  3,  6],\n",
       "       [10,  6,  2,  1,  2],\n",
       "       [ 6, 10, 10,  1,  8],\n",
       "       [ 6,  2,  1,  1,  9]])"
      ]
     },
     "execution_count": 48,
     "metadata": {},
     "output_type": "execute_result"
    }
   ],
   "source": [
    "c = np.random.randint(1, 11, size=(5, 5))\n",
    "c"
   ]
  },
  {
   "cell_type": "markdown",
   "id": "9ead9435-8bf4-4937-b8fd-32db7f2ae885",
   "metadata": {},
   "source": [
    "# 4\n",
    "Створіть масив розміром 4x4, заповніть його випадковими дійсними числами в діапазоні від 0 до 1 та виведіть його значення."
   ]
  },
  {
   "cell_type": "code",
   "execution_count": 49,
   "id": "fd2e1c32-b978-4371-9917-b5b49775e2fc",
   "metadata": {},
   "outputs": [
    {
     "data": {
      "text/plain": [
       "array([[0.39740649, 0.03332008, 0.95959257, 0.06641632],\n",
       "       [0.47595312, 0.08340397, 0.27324732, 0.64276754],\n",
       "       [0.62157786, 0.68172887, 0.81336723, 0.02321491],\n",
       "       [0.85402349, 0.21051005, 0.88730957, 0.65265709]])"
      ]
     },
     "execution_count": 49,
     "metadata": {},
     "output_type": "execute_result"
    }
   ],
   "source": [
    "d = np.random.random((4, 4))\n",
    "d"
   ]
  },
  {
   "cell_type": "markdown",
   "id": "a58e85c8-b1b5-4333-a273-73814988fd2d",
   "metadata": {},
   "source": [
    "# 5\n",
    "Створіть два одновимірних масиви розміром 5, заповніть їх випадковими цілими числами в діапазоні від 1 до 10 та виконайте на них поелементні операції додавання, віднімання та множення."
   ]
  },
  {
   "cell_type": "code",
   "execution_count": 50,
   "id": "e188beb2-c420-4f9c-a04d-eb1fb6c64298",
   "metadata": {},
   "outputs": [],
   "source": [
    "e = np.random.randint(1, 11, size=5)\n",
    "f = np.random.randint(1, 11, size=5)"
   ]
  },
  {
   "cell_type": "markdown",
   "id": "864e9856-0f73-4514-841f-9abc4b1ee3f5",
   "metadata": {},
   "source": [
    "## Addition"
   ]
  },
  {
   "cell_type": "code",
   "execution_count": 51,
   "id": "efa4c698-46d6-404f-a681-27e0b2750812",
   "metadata": {},
   "outputs": [
    {
     "data": {
      "text/plain": [
       "array([ 9, 15, 13,  9, 13])"
      ]
     },
     "execution_count": 51,
     "metadata": {},
     "output_type": "execute_result"
    }
   ],
   "source": [
    "g = e + f\n",
    "g"
   ]
  },
  {
   "cell_type": "markdown",
   "id": "f723a2cf-6f4a-4869-a924-1e1f4d823d57",
   "metadata": {},
   "source": [
    "## Subtraction"
   ]
  },
  {
   "cell_type": "code",
   "execution_count": 52,
   "id": "bc30df42-6369-44b7-a7ef-2abce7f98a1a",
   "metadata": {},
   "outputs": [
    {
     "data": {
      "text/plain": [
       "array([-1,  1,  1, -7,  7])"
      ]
     },
     "execution_count": 52,
     "metadata": {},
     "output_type": "execute_result"
    }
   ],
   "source": [
    "g = e - f\n",
    "g"
   ]
  },
  {
   "cell_type": "markdown",
   "id": "9dfcee02-fcac-4100-a8b0-47034d6c1898",
   "metadata": {},
   "source": [
    "## Multiplication"
   ]
  },
  {
   "cell_type": "code",
   "execution_count": 53,
   "id": "dd0e57b2-0ed5-42fc-80dd-e59b93eb1f6e",
   "metadata": {},
   "outputs": [
    {
     "data": {
      "text/plain": [
       "array([20, 56, 42,  8, 30])"
      ]
     },
     "execution_count": 53,
     "metadata": {},
     "output_type": "execute_result"
    }
   ],
   "source": [
    "g = e * f\n",
    "g"
   ]
  },
  {
   "cell_type": "markdown",
   "id": "6b383e4b-fd5e-420f-8f1d-3004fc38f032",
   "metadata": {},
   "source": [
    "# 6\n",
    "Створіть два вектори розміром 7, заповніть довільними числами та знайдіть їх скалярний добуток."
   ]
  },
  {
   "cell_type": "code",
   "execution_count": 54,
   "id": "0e7ff812-159b-4d27-bdbd-2069f9f00086",
   "metadata": {},
   "outputs": [
    {
     "data": {
      "text/plain": [
       "197"
      ]
     },
     "execution_count": 54,
     "metadata": {},
     "output_type": "execute_result"
    }
   ],
   "source": [
    "h = np.random.randint(1, 11, size=7)\n",
    "i = np.random.randint(1, 11, size=7)\n",
    "j = np.dot(h, i)\n",
    "j"
   ]
  },
  {
   "cell_type": "markdown",
   "id": "2b54da01-6b4b-49af-84b1-43d73034d365",
   "metadata": {},
   "source": [
    "# 7\n",
    "Створіть дві матриці розміром 2x2 та 2x3, заповніть їх випадковими цілими числами в діапазоні від 1 до 10 та перемножте їх між собою."
   ]
  },
  {
   "cell_type": "code",
   "execution_count": 55,
   "id": "e6194c3d-afff-49c2-b3fa-fa5fdb2be395",
   "metadata": {},
   "outputs": [
    {
     "data": {
      "text/plain": [
       "array([[ 85,  81, 111],\n",
       "       [ 75,  95,  95]])"
      ]
     },
     "execution_count": 55,
     "metadata": {},
     "output_type": "execute_result"
    }
   ],
   "source": [
    "k = np.random.randint(1, 11, size=(2, 2))\n",
    "l = np.random.randint(1, 11, size=(2, 3)) \n",
    "m = np.dot(k, l)\n",
    "m"
   ]
  },
  {
   "cell_type": "markdown",
   "id": "f01ad9d3-73c1-43d3-b807-41c64cd3ba7b",
   "metadata": {},
   "source": [
    "# 8\n",
    "Створіть матрицю розміром 3x3, заповніть її випадковими цілими числами в діапазоні від 1 до 10 та знайдіть її обернену матрицю."
   ]
  },
  {
   "cell_type": "code",
   "execution_count": 56,
   "id": "69bd0208-db8a-4cb5-b90b-0d269bb1c24d",
   "metadata": {},
   "outputs": [
    {
     "data": {
      "text/plain": [
       "array([[ 0.5 ,  0.5 , -0.75],\n",
       "       [-1.5 , -0.5 ,  1.75],\n",
       "       [ 4.5 ,  0.5 , -4.25]])"
      ]
     },
     "execution_count": 56,
     "metadata": {},
     "output_type": "execute_result"
    }
   ],
   "source": [
    "n = np.random.randint(1, 11, size=(3, 3))\n",
    "n_inv = np.linalg.inv(n)\n",
    "n_inv"
   ]
  },
  {
   "cell_type": "markdown",
   "id": "728ea843-edc8-4e23-ac9f-ab9276f35589",
   "metadata": {},
   "source": [
    "# 9\n",
    "Створіть матрицю розміром 4x4, заповніть її випадковими дійсними числами в діапазоні від 0 до 1 та транспонуйте її."
   ]
  },
  {
   "cell_type": "code",
   "execution_count": 57,
   "id": "6c2c5fa9-a1bb-4d1d-9dba-bc590bafb5d1",
   "metadata": {},
   "outputs": [
    {
     "data": {
      "text/plain": [
       "array([[0.66955119, 0.04298854, 0.74251169, 0.62650261],\n",
       "       [0.79779771, 0.12331773, 0.04548913, 0.71318147],\n",
       "       [0.85555434, 0.33731512, 0.68723682, 0.51150367],\n",
       "       [0.8028208 , 0.80396837, 0.87535519, 0.01390972]])"
      ]
     },
     "execution_count": 57,
     "metadata": {},
     "output_type": "execute_result"
    }
   ],
   "source": [
    "o = np.random.random((4, 4))\n",
    "o_T = o.T\n",
    "o_T"
   ]
  },
  {
   "cell_type": "markdown",
   "id": "52858d4a-d298-428e-ae44-22c16fb98d56",
   "metadata": {},
   "source": [
    "# 10\n",
    "Створіть матрицю розміром 3x4 та вектор розміром 4, заповніть їх випадковими цілими числами в діапазоні від 1 до 10 та перемножте матрицю на вектор."
   ]
  },
  {
   "cell_type": "code",
   "execution_count": 58,
   "id": "de88d6bd-80ba-478c-b7df-67a0f3b55c84",
   "metadata": {},
   "outputs": [
    {
     "name": "stdout",
     "output_type": "stream",
     "text": [
      "[[10  2  1  7]\n",
      " [ 1 10  9  7]\n",
      " [ 8  1  5  9]] [ 7 10  4  4]\n"
     ]
    },
    {
     "data": {
      "text/plain": [
       "array([122, 171, 122])"
      ]
     },
     "execution_count": 58,
     "metadata": {},
     "output_type": "execute_result"
    }
   ],
   "source": [
    "p = np.random.randint(1, 11, size=(3, 4))\n",
    "q = np.random.randint(1, 11, 4)\n",
    "print(p, q)\n",
    "r = np.dot(p, q)\n",
    "r"
   ]
  },
  {
   "cell_type": "markdown",
   "id": "5e9ae0fc-c1ae-48d0-8bd5-16b4b2141c90",
   "metadata": {},
   "source": [
    "# 11\n",
    "Створіть матрицю розміром 2x3 та вектор розміром 3, заповніть їх випадковими дійсними числами в діапазоні від 0 до 1 та перемножте матрицю на вектор."
   ]
  },
  {
   "cell_type": "code",
   "execution_count": 59,
   "id": "b22b4b7f-6461-4459-adec-cb1274f9b67d",
   "metadata": {},
   "outputs": [
    {
     "data": {
      "text/plain": [
       "array([0.26238006, 0.03856728])"
      ]
     },
     "execution_count": 59,
     "metadata": {},
     "output_type": "execute_result"
    }
   ],
   "source": [
    "s = np.random.random((2, 3))\n",
    "t = np.random.random(3)\n",
    "u = np.dot(s, t)\n",
    "u"
   ]
  },
  {
   "cell_type": "markdown",
   "id": "ea37a03c-706e-49bc-af80-7bb22eb3d73c",
   "metadata": {},
   "source": [
    "# 12\n",
    "Створіть дві матриці розміром 2x2, заповніть їх випадковими цілими числами в діапазоні від 1 до 10 та виконайте їхнє поелементне множення."
   ]
  },
  {
   "cell_type": "code",
   "execution_count": 60,
   "id": "3563a328-ae55-4687-8106-0d2b6298e92f",
   "metadata": {},
   "outputs": [
    {
     "data": {
      "text/plain": [
       "array([[100,  24],\n",
       "       [100,  63]])"
      ]
     },
     "execution_count": 60,
     "metadata": {},
     "output_type": "execute_result"
    }
   ],
   "source": [
    "v = np.random.randint(1, 11, size=(2, 2))\n",
    "w = np.random.randint(1, 11, size=(2, 2))\n",
    "x = v * w\n",
    "x"
   ]
  },
  {
   "cell_type": "markdown",
   "id": "5ec4c2a6-9658-4159-b395-061d7284460b",
   "metadata": {},
   "source": [
    "# 13\n",
    "Створіть дві матриці розміром 2x2, заповніть їх випадковими цілими числами в діапазоні від 1 до 10 та знайдіть їх добуток."
   ]
  },
  {
   "cell_type": "code",
   "execution_count": 61,
   "id": "f726256e-16e2-493d-99ab-803bc56f35fb",
   "metadata": {},
   "outputs": [
    {
     "data": {
      "text/plain": [
       "array([[28, 25],\n",
       "       [58, 73]])"
      ]
     },
     "execution_count": 61,
     "metadata": {},
     "output_type": "execute_result"
    }
   ],
   "source": [
    "y = np.random.randint(1, 11, size=(2, 2))\n",
    "z = np.random.randint(1, 11, size=(2, 2))\n",
    "aa = np.dot(y, z)\n",
    "aa"
   ]
  },
  {
   "cell_type": "markdown",
   "id": "07046c12-18f0-42b0-85b5-90c451cc752d",
   "metadata": {},
   "source": [
    "# 14\n",
    "Створіть матрицю розміром 5x5, заповніть її випадковими цілими числами в діапазоні від 1 до 100 та знайдіть суму елементів матриці."
   ]
  },
  {
   "cell_type": "code",
   "execution_count": 62,
   "id": "e2b9204d-29cc-48dd-aff6-5fcf797011c6",
   "metadata": {},
   "outputs": [
    {
     "data": {
      "text/plain": [
       "1213"
      ]
     },
     "execution_count": 62,
     "metadata": {},
     "output_type": "execute_result"
    }
   ],
   "source": [
    "bb = np.random.randint(1, 101, size=(5, 5))\n",
    "#cc = np.sum(bb)\n",
    "cc = bb.sum()\n",
    "cc"
   ]
  },
  {
   "cell_type": "markdown",
   "id": "2b9f5511-3b23-43ce-9bdf-984a7fe57647",
   "metadata": {},
   "source": [
    "# 15\n",
    "Створіть дві матриці розміром 4x4, заповніть їх випадковими цілими числами в діапазоні від 1 до 10 та знайдіть їхню різницю."
   ]
  },
  {
   "cell_type": "code",
   "execution_count": 66,
   "id": "632d7869-6704-4473-a3ea-d005c3f7c34d",
   "metadata": {},
   "outputs": [
    {
     "data": {
      "text/plain": [
       "array([[-3,  1, -3,  3],\n",
       "       [ 6,  6, -2, -2],\n",
       "       [-4, -2, -3, -9],\n",
       "       [ 5, -1, -1, -4]])"
      ]
     },
     "execution_count": 66,
     "metadata": {},
     "output_type": "execute_result"
    }
   ],
   "source": [
    "dd = np.random.randint(1, 11, size=(4, 4))\n",
    "ee = np.random.randint(1, 11, size=(4, 4))\n",
    "ff = dd - ee\n",
    "ff"
   ]
  },
  {
   "cell_type": "markdown",
   "id": "1fec3365-e2a5-475b-9d5d-57c6446795ca",
   "metadata": {},
   "source": [
    "# 16\n",
    "Створіть матрицю розміром 3x3, заповніть її випадковими дійсними числами в діапазоні від 0 до 1 та знайдіть вектор-стовпчик, що містить суму елементів кожного рядка матриці."
   ]
  },
  {
   "cell_type": "code",
   "execution_count": 78,
   "id": "5f7e4c83-af39-4498-bdfc-7e233c737dff",
   "metadata": {},
   "outputs": [
    {
     "data": {
      "text/plain": [
       "array([[1.53393117],\n",
       "       [1.51840182],\n",
       "       [1.48387489]])"
      ]
     },
     "execution_count": 78,
     "metadata": {},
     "output_type": "execute_result"
    }
   ],
   "source": [
    "gg = np.random.random((3, 3))\n",
    "hh = gg.sum(axis=1).reshape(3, 1)\n",
    "hh"
   ]
  },
  {
   "cell_type": "markdown",
   "id": "ffb7612c-abcc-4c5b-b494-e8e65e98d166",
   "metadata": {},
   "source": [
    "# 17\n",
    "Створіть матрицю розміром 3x4 з довільними цілими числами і створінь матрицю з квадратами цих чисел."
   ]
  },
  {
   "cell_type": "code",
   "execution_count": 89,
   "id": "bd0f128a-1f52-4b6e-be20-d2e73fb4e4bf",
   "metadata": {},
   "outputs": [
    {
     "data": {
      "text/plain": [
       "array([[ 25, 100, 100,  64],\n",
       "       [  4, 100,   9, 100],\n",
       "       [ 25,   9, 100,  49]])"
      ]
     },
     "execution_count": 89,
     "metadata": {},
     "output_type": "execute_result"
    }
   ],
   "source": [
    "ii = np.random.randint(1, 11, size=(3, 4))\n",
    "jj = ii**2\n",
    "jj"
   ]
  },
  {
   "cell_type": "markdown",
   "id": "ced8d8b9-28ff-4c83-b83c-bf47cf2fab94",
   "metadata": {},
   "source": [
    "# 18\n",
    "Створіть вектор розміром 4, заповніть його випадковими цілими числами в діапазоні від 1 до 50 та знайдіть вектор з квадратними коренями цих чисел."
   ]
  },
  {
   "cell_type": "code",
   "execution_count": 109,
   "id": "2a4770cf-1f4a-4b48-b518-55598597db37",
   "metadata": {},
   "outputs": [
    {
     "name": "stdout",
     "output_type": "stream",
     "text": [
      "[5.74456265 3.46410162 6.78232998 3.74165739]\n",
      "[5.74456265 3.46410162 6.78232998 3.74165739]\n"
     ]
    }
   ],
   "source": [
    "kk = np.random.randint(1, 51, 4)\n",
    "ll = np.sqrt(kk)\n",
    "#ll = np.power(kk, 1/2)\n",
    "print(ll)"
   ]
  }
 ],
 "metadata": {
  "kernelspec": {
   "display_name": "Python 3 (ipykernel)",
   "language": "python",
   "name": "python3"
  },
  "language_info": {
   "codemirror_mode": {
    "name": "ipython",
    "version": 3
   },
   "file_extension": ".py",
   "mimetype": "text/x-python",
   "name": "python",
   "nbconvert_exporter": "python",
   "pygments_lexer": "ipython3",
   "version": "3.10.12"
  }
 },
 "nbformat": 4,
 "nbformat_minor": 5
}
