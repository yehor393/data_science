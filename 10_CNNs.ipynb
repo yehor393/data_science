{
  "nbformat": 4,
  "nbformat_minor": 0,
  "metadata": {
    "colab": {
      "provenance": [],
      "gpuType": "T4"
    },
    "kernelspec": {
      "name": "python3",
      "display_name": "Python 3"
    },
    "language_info": {
      "name": "python"
    },
    "accelerator": "GPU"
  },
  "cells": [
    {
      "cell_type": "code",
      "execution_count": null,
      "metadata": {
        "id": "MdxqWFQNFyl0"
      },
      "outputs": [],
      "source": [
        "import numpy as np\n",
        "import tensorflow as tf\n",
        "from tensorflow.keras.datasets import fashion_mnist"
      ]
    },
    {
      "cell_type": "code",
      "source": [
        "# Завантаження даних\n",
        "(x_train, y_train), (x_test, y_test) = fashion_mnist.load_data()"
      ],
      "metadata": {
        "id": "WHnEppOV1ye1"
      },
      "execution_count": null,
      "outputs": []
    },
    {
      "cell_type": "code",
      "source": [
        "# Нормалізація даних\n",
        "x_train = x_train.astype('float32') / 255.0\n",
        "x_test = x_test.astype('float32') / 255.0"
      ],
      "metadata": {
        "id": "VnG_elzX1ab1"
      },
      "execution_count": null,
      "outputs": []
    },
    {
      "cell_type": "markdown",
      "source": [
        "**Базова Модель**\n",
        "\n",
        "---\n"
      ],
      "metadata": {
        "id": "191jCXs75PZz"
      }
    },
    {
      "cell_type": "code",
      "source": [],
      "metadata": {
        "id": "H72Oag2aag99"
      },
      "execution_count": null,
      "outputs": []
    },
    {
      "cell_type": "code",
      "source": [
        "from tensorflow.keras.models import Sequential\n",
        "from tensorflow.keras.layers import Conv2D, MaxPooling2D, Flatten, Dense, Dropout, BatchNormalization\n",
        "\n",
        "model = Sequential([\n",
        "    Conv2D(32, kernel_size=(3, 3), activation='relu', input_shape=(28, 28, 1)),\n",
        "    BatchNormalization(),\n",
        "    Conv2D(64, kernel_size=(3, 3), activation='relu'),\n",
        "    BatchNormalization(),\n",
        "    MaxPooling2D(pool_size=(2, 2)),\n",
        "    Dropout(0.25),\n",
        "\n",
        "    Conv2D(128, kernel_size=(3, 3), activation='relu'),\n",
        "    BatchNormalization(),\n",
        "    Dropout(0.25),\n",
        "\n",
        "    Flatten(),\n",
        "    Dense(128, activation='relu'),\n",
        "    BatchNormalization(),\n",
        "    Dropout(0.5),\n",
        "    Dense(10, activation='softmax')\n",
        "])\n",
        "\n",
        "model.compile(optimizer='adam', loss='sparse_categorical_crossentropy', metrics=['accuracy'])\n"
      ],
      "metadata": {
        "id": "2fp8rCfv1a29"
      },
      "execution_count": null,
      "outputs": []
    },
    {
      "cell_type": "code",
      "source": [
        "from tensorflow.keras import optimizers\n",
        "# Компіляція моделі\n",
        "model.compile(\n",
        "    optimizer=optimizers.Adam(learning_rate=0.001),\n",
        "    loss='sparse_categorical_crossentropy',\n",
        "    metrics=['accuracy']\n",
        "    )"
      ],
      "metadata": {
        "id": "Oytnzwem1ZVo"
      },
      "execution_count": null,
      "outputs": []
    },
    {
      "cell_type": "code",
      "source": [
        "# # Тренування моделі\n",
        "# history = model.fit(x_train, y_train, epochs=20, batch_size=64, validation_split=0.2)\n",
        "\n",
        "from tensorflow.keras.callbacks import ReduceLROnPlateau, EarlyStopping\n",
        "\n",
        "reduce_lr = ReduceLROnPlateau(monitor='val_loss', factor=0.2, patience=5, min_lr=0.0001)\n",
        "early_stopping = EarlyStopping(monitor='val_loss', patience=10, restore_best_weights=True)\n",
        "\n",
        "history = model.fit(\n",
        "    x_train, y_train,\n",
        "    epochs=20,\n",
        "    batch_size=64,\n",
        "    validation_split=0.2,\n",
        "    callbacks=[reduce_lr, early_stopping]\n",
        ")"
      ],
      "metadata": {
        "colab": {
          "base_uri": "https://localhost:8080/"
        },
        "id": "wH-PbQWQ1ZLs",
        "outputId": "053bc617-317e-46c9-9ce2-33b971cfa55a"
      },
      "execution_count": null,
      "outputs": [
        {
          "output_type": "stream",
          "name": "stdout",
          "text": [
            "Epoch 1/20\n",
            "750/750 [==============================] - 13s 10ms/step - loss: 0.4540 - accuracy: 0.8440 - val_loss: 0.3796 - val_accuracy: 0.8538 - lr: 0.0010\n",
            "Epoch 2/20\n",
            "750/750 [==============================] - 7s 10ms/step - loss: 0.2968 - accuracy: 0.8955 - val_loss: 0.2580 - val_accuracy: 0.9049 - lr: 0.0010\n",
            "Epoch 3/20\n",
            "750/750 [==============================] - 7s 9ms/step - loss: 0.2522 - accuracy: 0.9110 - val_loss: 0.2358 - val_accuracy: 0.9141 - lr: 0.0010\n",
            "Epoch 4/20\n",
            "750/750 [==============================] - 7s 10ms/step - loss: 0.2245 - accuracy: 0.9202 - val_loss: 0.2110 - val_accuracy: 0.9233 - lr: 0.0010\n",
            "Epoch 5/20\n",
            "750/750 [==============================] - 7s 9ms/step - loss: 0.2022 - accuracy: 0.9257 - val_loss: 0.2323 - val_accuracy: 0.9168 - lr: 0.0010\n",
            "Epoch 6/20\n",
            "750/750 [==============================] - 7s 9ms/step - loss: 0.1874 - accuracy: 0.9320 - val_loss: 0.2293 - val_accuracy: 0.9167 - lr: 0.0010\n",
            "Epoch 7/20\n",
            "750/750 [==============================] - 8s 10ms/step - loss: 0.1704 - accuracy: 0.9390 - val_loss: 0.2182 - val_accuracy: 0.9219 - lr: 0.0010\n",
            "Epoch 8/20\n",
            "750/750 [==============================] - 7s 9ms/step - loss: 0.1590 - accuracy: 0.9414 - val_loss: 0.2262 - val_accuracy: 0.9205 - lr: 0.0010\n",
            "Epoch 9/20\n",
            "750/750 [==============================] - 8s 10ms/step - loss: 0.1473 - accuracy: 0.9472 - val_loss: 0.2005 - val_accuracy: 0.9298 - lr: 0.0010\n",
            "Epoch 10/20\n",
            "750/750 [==============================] - 7s 9ms/step - loss: 0.1320 - accuracy: 0.9519 - val_loss: 0.2479 - val_accuracy: 0.9186 - lr: 0.0010\n",
            "Epoch 11/20\n",
            "750/750 [==============================] - 7s 10ms/step - loss: 0.1269 - accuracy: 0.9530 - val_loss: 0.2050 - val_accuracy: 0.9302 - lr: 0.0010\n",
            "Epoch 12/20\n",
            "750/750 [==============================] - 7s 9ms/step - loss: 0.1171 - accuracy: 0.9574 - val_loss: 0.2067 - val_accuracy: 0.9314 - lr: 0.0010\n",
            "Epoch 13/20\n",
            "750/750 [==============================] - 7s 9ms/step - loss: 0.1147 - accuracy: 0.9575 - val_loss: 0.2072 - val_accuracy: 0.9335 - lr: 0.0010\n",
            "Epoch 14/20\n",
            "750/750 [==============================] - 7s 9ms/step - loss: 0.1043 - accuracy: 0.9626 - val_loss: 0.2183 - val_accuracy: 0.9342 - lr: 0.0010\n",
            "Epoch 15/20\n",
            "750/750 [==============================] - 7s 10ms/step - loss: 0.0777 - accuracy: 0.9721 - val_loss: 0.1925 - val_accuracy: 0.9391 - lr: 2.0000e-04\n",
            "Epoch 16/20\n",
            "750/750 [==============================] - 7s 9ms/step - loss: 0.0647 - accuracy: 0.9765 - val_loss: 0.1923 - val_accuracy: 0.9413 - lr: 2.0000e-04\n",
            "Epoch 17/20\n",
            "750/750 [==============================] - 7s 9ms/step - loss: 0.0616 - accuracy: 0.9773 - val_loss: 0.1983 - val_accuracy: 0.9383 - lr: 2.0000e-04\n",
            "Epoch 18/20\n",
            "750/750 [==============================] - 7s 9ms/step - loss: 0.0554 - accuracy: 0.9803 - val_loss: 0.1948 - val_accuracy: 0.9411 - lr: 2.0000e-04\n",
            "Epoch 19/20\n",
            "750/750 [==============================] - 7s 9ms/step - loss: 0.0504 - accuracy: 0.9815 - val_loss: 0.2064 - val_accuracy: 0.9381 - lr: 2.0000e-04\n",
            "Epoch 20/20\n",
            "750/750 [==============================] - 7s 9ms/step - loss: 0.0480 - accuracy: 0.9837 - val_loss: 0.2000 - val_accuracy: 0.9417 - lr: 2.0000e-04\n"
          ]
        }
      ]
    },
    {
      "cell_type": "code",
      "source": [
        "# Оцінка моделі\n",
        "test_loss, test_acc = model.evaluate(x_test, y_test)\n",
        "print(f\"Test Accuracy: {test_acc*100:.2f}%\")"
      ],
      "metadata": {
        "id": "arh_QO002QEc",
        "colab": {
          "base_uri": "https://localhost:8080/"
        },
        "outputId": "828d669e-0c7e-4978-be82-8e80b473cab0"
      },
      "execution_count": null,
      "outputs": [
        {
          "output_type": "stream",
          "name": "stdout",
          "text": [
            "313/313 [==============================] - 1s 3ms/step - loss: 0.2173 - accuracy: 0.9371\n",
            "Test Accuracy: 93.71%\n"
          ]
        }
      ]
    },
    {
      "cell_type": "markdown",
      "source": [
        "---\n",
        "\n",
        "# **Якщо порівняти точність отриманої згорткової мережі (Conv2D) з точністю багатошарової мережі з попереднього завдання то можна прийти висновку що вона зросла на ~ 5%**\n",
        "\n",
        "---\n",
        "\n"
      ],
      "metadata": {
        "id": "MhTulARSkQZq"
      }
    },
    {
      "cell_type": "code",
      "source": [
        "import tensorflow as tf\n",
        "from tensorflow.keras import models, layers\n",
        "from tensorflow.keras.datasets import fashion_mnist\n",
        "from tensorflow.keras.applications import VGG16\n",
        "from tensorflow.keras.utils import to_categorical\n",
        "from tensorflow.keras.callbacks import ReduceLROnPlateau, EarlyStopping, ModelCheckpoint"
      ],
      "metadata": {
        "id": "qKhHQg5ZnJLs"
      },
      "execution_count": 1,
      "outputs": []
    },
    {
      "cell_type": "code",
      "source": [
        "# Завантаження та підготовка датасету\n",
        "(x_train, y_train), (x_test, y_test) = fashion_mnist.load_data()"
      ],
      "metadata": {
        "id": "0CyNWNf4RmKE"
      },
      "execution_count": 2,
      "outputs": []
    },
    {
      "cell_type": "code",
      "source": [
        "# Перетворення до формату з 3 каналами, що потрібно для VGG16\n",
        "x_train = tf.image.grayscale_to_rgb(tf.expand_dims(x_train, axis=-1))\n",
        "x_test = tf.image.grayscale_to_rgb(tf.expand_dims(x_test, axis=-1))"
      ],
      "metadata": {
        "id": "s75YVjdkRmev"
      },
      "execution_count": 3,
      "outputs": []
    },
    {
      "cell_type": "code",
      "source": [
        "# Зміна розміру зображень до 32х32\n",
        "x_train = tf.image.resize(x_train, [32, 32])\n",
        "x_test = tf.image.resize(x_test, [32, 32])\n"
      ],
      "metadata": {
        "id": "Ish8Cw15Rmlz"
      },
      "execution_count": 4,
      "outputs": []
    },
    {
      "cell_type": "code",
      "source": [
        "# Конвертація типу даних до float32\n",
        "x_train = tf.cast(x_train, tf.float32)\n",
        "x_test = tf.cast(x_test, tf.float32)"
      ],
      "metadata": {
        "id": "X69XKYuyRmsf"
      },
      "execution_count": 5,
      "outputs": []
    },
    {
      "cell_type": "code",
      "source": [
        "# Масштабування пікселів до діапазону [0, 1]\n",
        "x_train = x_train / 255.0\n",
        "x_test = x_test / 255.0"
      ],
      "metadata": {
        "id": "KFzf4DLdRmy4"
      },
      "execution_count": 6,
      "outputs": []
    },
    {
      "cell_type": "code",
      "source": [
        "# Категоріальна перекодування міток\n",
        "y_train = to_categorical(y_train, 10)\n",
        "y_test = to_categorical(y_test, 10)"
      ],
      "metadata": {
        "id": "aJSGXPRRRm4j"
      },
      "execution_count": 7,
      "outputs": []
    },
    {
      "cell_type": "code",
      "source": [
        "# Завантаження передобученої моделі VGG16 без верхніх шарів\n",
        "conv_base = VGG16(weights=\"imagenet\", include_top=False, input_shape=(32, 32, 3))"
      ],
      "metadata": {
        "id": "fSbO-1nqRm-s"
      },
      "execution_count": 8,
      "outputs": []
    },
    {
      "cell_type": "code",
      "source": [
        "# Налаштування шарів для тренування\n",
        "conv_base.trainable = True\n",
        "set_trainable = False\n",
        "for layer in conv_base.layers:\n",
        "    if layer.name == \"block5_conv1\":\n",
        "        set_trainable = True\n",
        "    if set_trainable:\n",
        "        layer.trainable = True\n",
        "    else:\n",
        "        layer.trainable = False"
      ],
      "metadata": {
        "id": "wuCqovbvRnIv"
      },
      "execution_count": 9,
      "outputs": []
    },
    {
      "cell_type": "code",
      "source": [
        "# Створення нової моделі\n",
        "modified_model = models.Sequential([\n",
        "    conv_base,\n",
        "    layers.Flatten(),\n",
        "    layers.Dense(256, activation=\"relu\"),\n",
        "    layers.Dropout(0.5),\n",
        "    layers.Dense(10, activation=\"softmax\"),\n",
        "])"
      ],
      "metadata": {
        "id": "kFnXwl1VRnPD"
      },
      "execution_count": 10,
      "outputs": []
    },
    {
      "cell_type": "code",
      "source": [
        "# Компіляція моделі\n",
        "modified_model.compile(optimizer='adam', loss='categorical_crossentropy', metrics=['accuracy'])"
      ],
      "metadata": {
        "id": "C5td7sIuR3TU"
      },
      "execution_count": 11,
      "outputs": []
    },
    {
      "cell_type": "code",
      "source": [
        "from tensorflow.keras.callbacks import ReduceLROnPlateau, EarlyStopping\n",
        "# Використання зворотних викликів\n",
        "reduce_lr = ReduceLROnPlateau(monitor='val_loss', factor=0.2, patience=5, min_lr=0.0001)\n",
        "early_stopping = EarlyStopping(monitor='val_loss', patience=10, restore_best_weights=True)\n",
        "model_checkpoint = ModelCheckpoint('best_model.h5', monitor='val_accuracy', save_best_only=True)\n"
      ],
      "metadata": {
        "id": "WzL5PNEFR5kI"
      },
      "execution_count": 12,
      "outputs": []
    },
    {
      "cell_type": "code",
      "source": [
        "# Навчання моделі\n",
        "history = modified_model.fit(\n",
        "    x_train, y_train,\n",
        "    epochs=20,\n",
        "    batch_size=64,\n",
        "    validation_split=0.2,\n",
        "    callbacks=[reduce_lr, early_stopping, model_checkpoint]\n",
        ")"
      ],
      "metadata": {
        "colab": {
          "base_uri": "https://localhost:8080/"
        },
        "id": "j3_0fjrpR5wD",
        "outputId": "48acbb2c-33f8-43c5-b926-5af14ebc183e"
      },
      "execution_count": 13,
      "outputs": [
        {
          "output_type": "stream",
          "name": "stdout",
          "text": [
            "Epoch 1/20\n",
            "750/750 [==============================] - ETA: 0s - loss: 0.5078 - accuracy: 0.8237"
          ]
        },
        {
          "output_type": "stream",
          "name": "stderr",
          "text": [
            "/usr/local/lib/python3.10/dist-packages/keras/src/engine/training.py:3103: UserWarning: You are saving your model as an HDF5 file via `model.save()`. This file format is considered legacy. We recommend using instead the native Keras format, e.g. `model.save('my_model.keras')`.\n",
            "  saving_api.save_model(\n"
          ]
        },
        {
          "output_type": "stream",
          "name": "stdout",
          "text": [
            "\b\b\b\b\b\b\b\b\b\b\b\b\b\b\b\b\b\b\b\b\b\b\b\b\b\b\b\b\b\b\b\b\b\b\b\b\b\b\b\b\b\b\b\b\b\b\b\b\b\b\b\b\b\b\b\b\b\b\b\b\b\b\b\b\b\b\b\b\b\b\b\b\b\b\b\b\b\b\b\b\b\b\b\b\r750/750 [==============================] - 24s 22ms/step - loss: 0.5078 - accuracy: 0.8237 - val_loss: 0.3257 - val_accuracy: 0.8818 - lr: 0.0010\n",
            "Epoch 2/20\n",
            "750/750 [==============================] - 16s 21ms/step - loss: 0.3490 - accuracy: 0.8810 - val_loss: 0.3041 - val_accuracy: 0.8912 - lr: 0.0010\n",
            "Epoch 3/20\n",
            "750/750 [==============================] - 16s 22ms/step - loss: 0.2968 - accuracy: 0.8964 - val_loss: 0.2953 - val_accuracy: 0.8962 - lr: 0.0010\n",
            "Epoch 4/20\n",
            "750/750 [==============================] - 17s 22ms/step - loss: 0.2814 - accuracy: 0.9011 - val_loss: 0.2836 - val_accuracy: 0.8999 - lr: 0.0010\n",
            "Epoch 5/20\n",
            "750/750 [==============================] - 17s 22ms/step - loss: 0.2641 - accuracy: 0.9081 - val_loss: 0.2859 - val_accuracy: 0.9000 - lr: 0.0010\n",
            "Epoch 6/20\n",
            "750/750 [==============================] - 16s 21ms/step - loss: 0.2565 - accuracy: 0.9104 - val_loss: 0.2879 - val_accuracy: 0.9007 - lr: 0.0010\n",
            "Epoch 7/20\n",
            "750/750 [==============================] - 16s 22ms/step - loss: 0.2416 - accuracy: 0.9158 - val_loss: 0.2966 - val_accuracy: 0.8943 - lr: 0.0010\n",
            "Epoch 8/20\n",
            "750/750 [==============================] - 16s 22ms/step - loss: 0.2366 - accuracy: 0.9177 - val_loss: 0.2970 - val_accuracy: 0.9030 - lr: 0.0010\n",
            "Epoch 9/20\n",
            "750/750 [==============================] - 16s 22ms/step - loss: 0.2260 - accuracy: 0.9211 - val_loss: 0.3193 - val_accuracy: 0.8988 - lr: 0.0010\n",
            "Epoch 10/20\n",
            "750/750 [==============================] - 16s 21ms/step - loss: 0.1717 - accuracy: 0.9380 - val_loss: 0.2569 - val_accuracy: 0.9158 - lr: 2.0000e-04\n",
            "Epoch 11/20\n",
            "750/750 [==============================] - 15s 21ms/step - loss: 0.1549 - accuracy: 0.9434 - val_loss: 0.2774 - val_accuracy: 0.9121 - lr: 2.0000e-04\n",
            "Epoch 12/20\n",
            "750/750 [==============================] - 16s 21ms/step - loss: 0.1454 - accuracy: 0.9460 - val_loss: 0.2897 - val_accuracy: 0.9147 - lr: 2.0000e-04\n",
            "Epoch 13/20\n",
            "750/750 [==============================] - 18s 24ms/step - loss: 0.1376 - accuracy: 0.9481 - val_loss: 0.2859 - val_accuracy: 0.9150 - lr: 2.0000e-04\n",
            "Epoch 14/20\n",
            "750/750 [==============================] - 17s 22ms/step - loss: 0.1304 - accuracy: 0.9507 - val_loss: 0.3089 - val_accuracy: 0.9183 - lr: 2.0000e-04\n",
            "Epoch 15/20\n",
            "750/750 [==============================] - 17s 22ms/step - loss: 0.1229 - accuracy: 0.9527 - val_loss: 0.3276 - val_accuracy: 0.9165 - lr: 2.0000e-04\n",
            "Epoch 16/20\n",
            "750/750 [==============================] - 16s 22ms/step - loss: 0.1060 - accuracy: 0.9580 - val_loss: 0.3495 - val_accuracy: 0.9158 - lr: 1.0000e-04\n",
            "Epoch 17/20\n",
            "750/750 [==============================] - 16s 22ms/step - loss: 0.1004 - accuracy: 0.9604 - val_loss: 0.3626 - val_accuracy: 0.9158 - lr: 1.0000e-04\n",
            "Epoch 18/20\n",
            "750/750 [==============================] - 16s 22ms/step - loss: 0.0955 - accuracy: 0.9636 - val_loss: 0.3857 - val_accuracy: 0.9170 - lr: 1.0000e-04\n",
            "Epoch 19/20\n",
            "750/750 [==============================] - 16s 22ms/step - loss: 0.0903 - accuracy: 0.9655 - val_loss: 0.4062 - val_accuracy: 0.9153 - lr: 1.0000e-04\n",
            "Epoch 20/20\n",
            "750/750 [==============================] - 17s 22ms/step - loss: 0.0839 - accuracy: 0.9675 - val_loss: 0.4375 - val_accuracy: 0.9144 - lr: 1.0000e-04\n"
          ]
        }
      ]
    },
    {
      "cell_type": "code",
      "source": [
        "# Завантаження найкращої моделі\n",
        "modified_model.load_weights('best_model.h5')"
      ],
      "metadata": {
        "id": "6T1eVvUFrfaP"
      },
      "execution_count": 14,
      "outputs": []
    },
    {
      "cell_type": "code",
      "source": [
        "# Оцінка моделі\n",
        "test_loss, test_acc = modified_model.evaluate(x_test, y_test)\n",
        "print(f\"Test Accuracy: {test_acc*100:.2f}%\")"
      ],
      "metadata": {
        "colab": {
          "base_uri": "https://localhost:8080/"
        },
        "id": "V6C07fpER55K",
        "outputId": "432841d7-fb09-4481-f345-d0e839118472"
      },
      "execution_count": 15,
      "outputs": [
        {
          "output_type": "stream",
          "name": "stdout",
          "text": [
            "313/313 [==============================] - 4s 12ms/step - loss: 0.3499 - accuracy: 0.9120\n",
            "Test Accuracy: 91.20%\n"
          ]
        }
      ]
    },
    {
      "cell_type": "markdown",
      "source": [
        "---\n",
        "\n",
        "# **Якщо порівняти точність отриманої згорткової мережі (VGG16) з точністю багатошарової мережі з попереднього завдання то можна прийти висновку що вона зросла на ~ 3-4%**\n",
        "\n",
        "---\n"
      ],
      "metadata": {
        "id": "NoG-apiDtc1J"
      }
    },
    {
      "cell_type": "code",
      "source": [],
      "metadata": {
        "id": "Bl2ZejUyuySn"
      },
      "execution_count": null,
      "outputs": []
    }
  ]
}